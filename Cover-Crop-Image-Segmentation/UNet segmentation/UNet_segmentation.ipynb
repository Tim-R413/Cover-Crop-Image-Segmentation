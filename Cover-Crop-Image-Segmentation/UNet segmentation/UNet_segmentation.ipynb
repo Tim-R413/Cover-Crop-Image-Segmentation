{
  "nbformat": 4,
  "nbformat_minor": 0,
  "metadata": {
    "colab": {
      "name": "UNet segmentation ",
      "provenance": [],
      "collapsed_sections": [],
      "include_colab_link": true
    },
    "kernelspec": {
      "name": "python3",
      "display_name": "Python 3"
    }
  },
  "cells": [
    {
      "cell_type": "markdown",
      "metadata": {
        "id": "view-in-github",
        "colab_type": "text"
      },
      "source": [
        "<a href=\"https://colab.research.google.com/github/Tim-R413/Cover-Crop-Image-Segmentation/blob/master/Cover-Crop-Image-Segmentation/UNet%20segmentation/UNet_segmentation.ipynb\" target=\"_parent\"><img src=\"https://colab.research.google.com/assets/colab-badge.svg\" alt=\"Open In Colab\"/></a>"
      ]
    },
    {
      "cell_type": "markdown",
      "metadata": {
        "id": "CIepGKF3D0t2",
        "colab_type": "text"
      },
      "source": [
        "# UNet semantic image segmentation\n",
        "region based semantic segmentation process performed on the covercrop dataset using the UNet achitecture for pixel-wise classification of covercrop species mixtures."
      ]
    },
    {
      "cell_type": "code",
      "metadata": {
        "id": "2a8vnIhjDyAG",
        "colab_type": "code",
        "colab": {}
      },
      "source": [
        ""
      ],
      "execution_count": 0,
      "outputs": []
    },
    {
      "cell_type": "code",
      "metadata": {
        "colab_type": "code",
        "id": "bJcQiA3OdCY6",
        "colab": {}
      },
      "source": [
        "!pip install kaggle"
      ],
      "execution_count": 0,
      "outputs": []
    },
    {
      "cell_type": "code",
      "metadata": {
        "colab_type": "code",
        "id": "ODNLPGHKKgr-",
        "colab": {}
      },
      "source": [
        "import os\n",
        "import glob\n",
        "import zipfile\n",
        "import functools\n",
        "\n",
        "import numpy as np\n",
        "import matplotlib.pyplot as plt\n",
        "import matplotlib as mpl\n",
        "mpl.rcParams['axes.grid'] = False\n",
        "mpl.rcParams['figure.figsize'] = (12,12)\n",
        "\n",
        "from sklearn.model_selection import train_test_split\n",
        "import matplotlib.image as mpimg\n",
        "import pandas as pd\n",
        "from PIL import Image\n"
      ],
      "execution_count": 0,
      "outputs": []
    },
    {
      "cell_type": "code",
      "metadata": {
        "colab_type": "code",
        "id": "YQ9VRReUQxXi",
        "colab": {}
      },
      "source": [
        "import tensorflow as tf\n",
        "import tensorflow.contrib as tfcontrib\n",
        "from tensorflow.python.keras import models\n"
      ],
      "execution_count": 0,
      "outputs": []
    },
    {
      "cell_type": "code",
      "metadata": {
        "id": "G0NPSemV-UDj",
        "colab_type": "code",
        "colab": {}
      },
      "source": [
        "zip_ref = ZipFile(\"/content/drive/My Drive/CC Image Segmentation/IMAGE SEGMENTATION PROJECT/seg-img-dataset.zip\", 'r')\n",
        "zip_ref.extractall(\"/content/Mask_RCNN/dataset\")\n",
        "zip_ref.close()"
      ],
      "execution_count": 0,
      "outputs": []
    },
    {
      "cell_type": "code",
      "metadata": {
        "id": "Wlpv5ZBqPjP9",
        "colab_type": "code",
        "colab": {}
      },
      "source": [
        ""
      ],
      "execution_count": 0,
      "outputs": []
    },
    {
      "cell_type": "code",
      "metadata": {
        "colab_type": "code",
        "id": "wT1kb3q0ghhi",
        "colab": {}
      },
      "source": [
        "#img_dir = os.path.join(, \"train\")\n",
        "#label_dir = os.path.join(, \"train_masks\")"
      ],
      "execution_count": 0,
      "outputs": []
    }
  ]
}